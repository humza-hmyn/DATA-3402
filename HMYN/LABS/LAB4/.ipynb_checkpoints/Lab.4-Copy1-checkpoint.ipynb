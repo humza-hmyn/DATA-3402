{
 "cells": [
  {
   "cell_type": "markdown",
   "metadata": {},
   "source": [
    "# Lab 4- Object Oriented Programming\n",
    "\n",
    "For all of the exercises below, make sure you provide tests of your solutions.\n"
   ]
  },
  {
   "cell_type": "markdown",
   "metadata": {},
   "source": [
    "1. Write a \"counter\" class that can be incremented up to a specified maximum value, will print an error if an attempt is made to increment beyond that value, and allows reseting the counter. "
   ]
  },
  {
   "cell_type": "code",
   "execution_count": 36,
   "metadata": {},
   "outputs": [],
   "source": [
    "#counter class:\n",
    "class counter_class:\n",
    "    def __init__(self, max_val):\n",
    "        self.max_val=max_val\n",
    "        self.iterate=0\n",
    "        \n",
    "    def count_it(self):\n",
    "        for iterate in range(1,self.max_val+1):\n",
    "            print(iterate)\n",
    "            \n",
    "            if iterate >= self.max_val:\n",
    "                print(\"ERROR: EXCEEDED OR MET MAX\")\n",
    "                break\n",
    "            \n",
    "        return iterate\n",
    "    \n",
    "    def reset_it(self):\n",
    "        self.iterate=0"
   ]
  },
  {
   "cell_type": "code",
   "execution_count": 37,
   "metadata": {},
   "outputs": [
    {
     "name": "stdout",
     "output_type": "stream",
     "text": [
      "1\n",
      "2\n",
      "3\n",
      "4\n",
      "5\n",
      "6\n",
      "7\n",
      "8\n",
      "9\n",
      "10\n",
      "11\n",
      "12\n",
      "ERROR: EXCEEDED OR MET MAX\n"
     ]
    }
   ],
   "source": [
    "#testing:\n",
    "demo_one=counter_class(12)\n",
    "demo_one.count_it()\n",
    "demo_one.reset_it()"
   ]
  },
  {
   "cell_type": "markdown",
   "metadata": {},
   "source": [
    "2. Copy and paste your solution to question 1 and modify it so that all the data held by the counter is private. Implement functions to check the value of the counter, check the maximum value, and check if the counter is at the maximum."
   ]
  },
  {
   "cell_type": "code",
   "execution_count": 55,
   "metadata": {},
   "outputs": [],
   "source": [
    "#counter class v2:\n",
    "\n",
    "class counter_class:\n",
    "    def __init__(self, max_val):\n",
    "        self.__max_val=max_val\n",
    "        self.__iterate=0\n",
    "        \n",
    "    def _count_it(self):\n",
    "        for iterate in range(1,self.__max_val+1):\n",
    "            #print(iterate)\n",
    "            \n",
    "            if iterate >= self.__max_val:\n",
    "                print(\"ERROR: EXCEEDED OR MET MAX\")\n",
    "                break\n",
    "            \n",
    "        return iterate\n",
    "    \n",
    "    def reset_it(self):\n",
    "        self.__iterate=0\n",
    "    def check_counter(self):\n",
    "        return "
   ]
  },
  {
   "cell_type": "code",
   "execution_count": 56,
   "metadata": {},
   "outputs": [
    {
     "name": "stdout",
     "output_type": "stream",
     "text": [
      "ERROR: EXCEEDED OR MET MAX\n"
     ]
    }
   ],
   "source": [
    "#testing:\n",
    "demo_one=counter_class(12)\n",
    "demo_one._count_it()\n",
    "demo_one.reset_it()"
   ]
  },
  {
   "cell_type": "markdown",
   "metadata": {},
   "source": [
    "3. Implement a class to represent a rectangle, holding the length, width, and $x$ and $y$ coordinates of a corner of the object. Implement functions that compute the area and perimeter of the rectangle. Make all data members private and privide accessors to retrieve values of data members. "
   ]
  },
  {
   "cell_type": "code",
   "execution_count": 19,
   "metadata": {},
   "outputs": [],
   "source": [
    "class Rectangle:\n",
    "    def __init__(self,length,width,x,y):\n",
    "        self.__length=length\n",
    "        self.__width=width\n",
    "        self.__x=x\n",
    "        self.__y=y\n",
    "    def find_area(self):\n",
    "        return self.__length*self.__width\n",
    "    def find_perimeter(self):\n",
    "        return 2*self.__length+2*self.__width\n",
    "    \n",
    "    def get_length(self):\n",
    "        return self.__length\n",
    "\n",
    "    def get_width(self):\n",
    "        return self.__width\n",
    "\n",
    "    def get_x(self):\n",
    "        return self.__x\n",
    "\n",
    "    def get_y(self):\n",
    "        return self.__y"
   ]
  },
  {
   "cell_type": "code",
   "execution_count": 20,
   "metadata": {},
   "outputs": [
    {
     "data": {
      "text/plain": [
       "6"
      ]
     },
     "execution_count": 20,
     "metadata": {},
     "output_type": "execute_result"
    }
   ],
   "source": [
    "demo_rec=Rectangle(2,3,6,5)\n",
    "demo_rec.find_area()"
   ]
  },
  {
   "cell_type": "code",
   "execution_count": 21,
   "metadata": {},
   "outputs": [
    {
     "data": {
      "text/plain": [
       "10"
      ]
     },
     "execution_count": 21,
     "metadata": {},
     "output_type": "execute_result"
    }
   ],
   "source": [
    "demo_rec.find_perimeter()"
   ]
  },
  {
   "cell_type": "markdown",
   "metadata": {},
   "source": [
    "4. Implement a class to represent a circle, holding the radius and $x$ and $y$ coordinates of center of the object. Implement functions that compute the area and perimeter of the rectangle (circle?). Make all data members private and privide accessors to retrieve values of data members. "
   ]
  },
  {
   "cell_type": "code",
   "execution_count": 25,
   "metadata": {},
   "outputs": [],
   "source": [
    "import math\n",
    "class Circle:\n",
    "    def __init__(self, radius, x, y):\n",
    "        self.__radius = radius\n",
    "        self.__x = x\n",
    "        self.__y = y\n",
    "    \n",
    "    def get_radius(self):\n",
    "        return self.__radius\n",
    "\n",
    "    def get_x(self):\n",
    "        return self.__x\n",
    "\n",
    "    def get_y(self):\n",
    "        return self.__y\n",
    "            \n",
    "    def get_area(self):\n",
    "        return math.pi * self.__radius ** 2\n",
    "    \n",
    "    def perimeter(self):\n",
    "        return 2 * math.pi * self.__radius"
   ]
  },
  {
   "cell_type": "code",
   "execution_count": 27,
   "metadata": {},
   "outputs": [
    {
     "data": {
      "text/plain": [
       "254.46900494077323"
      ]
     },
     "execution_count": 27,
     "metadata": {},
     "output_type": "execute_result"
    }
   ],
   "source": [
    "demo_cir=Circle(9,2,2)\n",
    "demo_cir.get_area()"
   ]
  },
  {
   "cell_type": "code",
   "execution_count": 28,
   "metadata": {},
   "outputs": [
    {
     "data": {
      "text/plain": [
       "56.548667764616276"
      ]
     },
     "execution_count": 28,
     "metadata": {},
     "output_type": "execute_result"
    }
   ],
   "source": [
    "demo_cir.perimeter()"
   ]
  },
  {
   "cell_type": "markdown",
   "metadata": {},
   "source": [
    "5. Implement a common base class for the classes implemented in 3 and 4 above which implements all common methods as not implemented functions (virtual). Re-implement your regtangle and circule classes to inherit from the base class and overload the functions accordingly. "
   ]
  },
  {
   "cell_type": "code",
   "execution_count": 50,
   "metadata": {},
   "outputs": [],
   "source": [
    "#common base class so basically a \"shape\" class or something...\n",
    "class Shape:\n",
    "    def area(self):\n",
    "        raise NotImplementedError(\"ERR\")\n",
    "\n",
    "    def perimeter(self):\n",
    "        raise NotImplementedError(\"ERR\")\n",
    "        \n",
    "class Circle(Shape):\n",
    "    def __init__(self, radius, x, y):\n",
    "        self.__radius = radius\n",
    "        self.__x = x\n",
    "        self.__y = y\n",
    "    \n",
    "    def get_radius(self):\n",
    "        return self.__radius\n",
    "\n",
    "    def get_x(self):\n",
    "        return self.__x\n",
    "\n",
    "    def get_y(self):\n",
    "        return self.__y\n",
    "            \n",
    "    def area(self):\n",
    "        return math.pi * self.__radius ** 2\n",
    "    \n",
    "    def perimeter(self):\n",
    "        return 2 * math.pi * self.__radius\n",
    "    \n",
    "class Rectangle(Shape):\n",
    "    def __init__(self,length,width,x,y):\n",
    "        self.__length=length\n",
    "        self.__width=width\n",
    "        self.__x=x\n",
    "        self.__y=y\n",
    "        \n",
    "    def area(self):\n",
    "        return self.__length*self.__width\n",
    "    \n",
    "    def perimeter(self):\n",
    "        return 2*self.__length+2*self.__width\n",
    "    \n",
    "    def get_length(self):\n",
    "        return self.__length\n",
    "\n",
    "    def get_width(self):\n",
    "        return self.__width\n",
    "\n",
    "    def get_x(self):\n",
    "        return self.__x\n",
    "\n",
    "    def get_y(self):\n",
    "        return self.__y"
   ]
  },
  {
   "cell_type": "code",
   "execution_count": 51,
   "metadata": {},
   "outputs": [
    {
     "data": {
      "text/plain": [
       "254.46900494077323"
      ]
     },
     "execution_count": 51,
     "metadata": {},
     "output_type": "execute_result"
    }
   ],
   "source": [
    "demo_cir=Circle(9,2,2)\n",
    "demo_cir.area()"
   ]
  },
  {
   "cell_type": "markdown",
   "metadata": {},
   "source": [
    "6. Implement a triangle class analogous to the rectangle and circle in question 5."
   ]
  },
  {
   "cell_type": "code",
   "execution_count": 56,
   "metadata": {},
   "outputs": [],
   "source": [
    "class Triangle(Shape):\n",
    "    def __init__(self,side1,side2,side3,x,y):\n",
    "        self.__side1 = side1\n",
    "        self.__side2 = side2\n",
    "        self.__side3 = side3\n",
    "        self.__x = x\n",
    "        self.__y = y\n",
    "    def area(self):\n",
    "        return ((self.__side1 + self.__side2 + self.__side3) / 2)\n",
    "    \n",
    "    def perimeter(self):\n",
    "        return self.__side1 + self.__side2 + self.__side3\n",
    "\n",
    "    def get_side1(self):\n",
    "        return self.__side1\n",
    "\n",
    "    def get_side2(self):\n",
    "        return self.__side2\n",
    "\n",
    "    def get_side3(self):\n",
    "        return self.__side3\n",
    "\n",
    "    def get_x(self):\n",
    "        return self.__x\n",
    "\n",
    "    def get_y(self):\n",
    "        return self.__y"
   ]
  },
  {
   "cell_type": "code",
   "execution_count": 65,
   "metadata": {},
   "outputs": [
    {
     "name": "stdout",
     "output_type": "stream",
     "text": [
      "P: 13\n",
      "A: 6.5\n"
     ]
    }
   ],
   "source": [
    "demo=Triangle(2,7,4,2,5)\n",
    "print(f\"P: {demo.perimeter()}\")\n",
    "print(f\"A: {demo.area()}\")"
   ]
  },
  {
   "cell_type": "markdown",
   "metadata": {},
   "source": [
    "7. Add a function to the object classes, including the base, that returns a list of up to 16 pairs of  $x$ and $y$ points on the parameter of the object. "
   ]
  },
  {
   "cell_type": "code",
   "execution_count": 66,
   "metadata": {},
   "outputs": [],
   "source": [
    "#common base class so basically a \"shape\" class or something...\n",
    "class Shape:\n",
    "    def area(self):\n",
    "        raise NotImplementedError(\"ERR\")\n",
    "\n",
    "    def perimeter(self):\n",
    "        raise NotImplementedError(\"ERR\")\n",
    "        \n",
    "    def get_boundary_points(self):\n",
    "        raise NotImplementedError(\"ERR\")\n",
    "        \n",
    "class Circle(Shape):\n",
    "    def __init__(self, radius, x, y):\n",
    "        self.__radius = radius\n",
    "        self.__x = x\n",
    "        self.__y = y\n",
    "    \n",
    "    def get_radius(self):\n",
    "        return self.__radius\n",
    "\n",
    "    def get_x(self):\n",
    "        return self.__x\n",
    "\n",
    "    def get_y(self):\n",
    "        return self.__y\n",
    "            \n",
    "    def area(self):\n",
    "        return math.pi * self.__radius ** 2\n",
    "    \n",
    "    def perimeter(self):\n",
    "        return 2 * math.pi * self.__radius\n",
    "    \n",
    "    def get_boundary_points(self):\n",
    "        points = []\n",
    "        for theta in range(0, 360, 360 // 16):  # Iterate 16 times\n",
    "            x = self.__x + self.__radius * math.cos(math.radians(theta))\n",
    "            y = self.__y + self.__radius * math.sin(math.radians(theta))\n",
    "            points.append((x, y))\n",
    "        return points\n",
    "    \n",
    "class Rectangle(Shape):\n",
    "    def __init__(self,length,width,x,y):\n",
    "        self.__length=length\n",
    "        self.__width=width\n",
    "        self.__x=x\n",
    "        self.__y=y\n",
    "        \n",
    "    def area(self):\n",
    "        return self.__length*self.__width\n",
    "    \n",
    "    def perimeter(self):\n",
    "        return 2*self.__length+2*self.__width\n",
    "    \n",
    "    def get_length(self):\n",
    "        return self.__length\n",
    "\n",
    "    def get_width(self):\n",
    "        return self.__width\n",
    "\n",
    "    def get_x(self):\n",
    "        return self.__x\n",
    "\n",
    "    def get_y(self):\n",
    "        return self.__y\n",
    "    \n",
    "    def get_boundary_points(self):\n",
    "        points = []\n",
    "        points.append((self.__x, self.__y))\n",
    "        points.append((self.__x + self.__length, self.__y))\n",
    "        points.append((self.__x + self.__length, self.__y + self.__width))\n",
    "        points.append((self.__x, self.__y + self.__width))\n",
    "        return points\n",
    "    \n",
    "class Triangle(Shape):\n",
    "    def __init__(self, side1, side2, side3, x, y):\n",
    "        self.__side1 = side1\n",
    "        self.__side2 = side2\n",
    "        self.__side3 = side3\n",
    "        self.__x = x\n",
    "        self.__y = y\n",
    "    \n",
    "    def area(self):\n",
    "        s = (self.__side1 + self.__side2 + self.__side3) / 2\n",
    "        return math.sqrt(s * (s - self.__side1) * (s - self.__side2) * (s - self.__side3))\n",
    "\n",
    "    def perimeter(self):\n",
    "        return self.__side1 + self.__side2 + self.__side3\n",
    "\n",
    "    def get_side1(self):\n",
    "        return self.__side1\n",
    "\n",
    "    def get_side2(self):\n",
    "        return self.__side2\n",
    "\n",
    "    def get_side3(self):\n",
    "        return self.__side3\n",
    "\n",
    "    def get_x(self):\n",
    "        return self.__x\n",
    "\n",
    "    def get_y(self):\n",
    "        return self.__y\n",
    "    \n",
    "    def get_boundary_points(self):\n",
    "        points = []\n",
    "        points.append((self.__x, self.__y))\n",
    "        points.append((self.__x + self.__side1, self.__y))\n",
    "        points.append((self.__x + self.__side1, self.__y + self.__side2))\n",
    "        return points"
   ]
  },
  {
   "cell_type": "code",
   "execution_count": 71,
   "metadata": {},
   "outputs": [
    {
     "name": "stdout",
     "output_type": "stream",
     "text": [
      "Triangle: [(12.0, 5.0), (11.344654691101088, 8.371459340743208), (9.47405820304786, 11.251925334130975), (6.660629787682202, 13.221909118783408), (3.31409547032251, 13.994517443171862), (-0.07818128993101858, 13.457233587073176), (-3.022175457229724, 11.688303429296548), (-5.089146416692504, 8.945340321101696), (-5.978076452338417, 5.62780826369713), (-5.559508646656383, 2.2188470506254743), (-3.894399988070802, -0.7850884871788537), (-1.2252440650730172, -2.946528335730343), (2.05924383059112, -3.9506970583144607), (5.480736202352995, -3.6513552634448683), (8.540953277930926, -2.092096782460496), (10.794228634059944, 0.49999999999999645), (11.912412618674132, 3.747442091359407)]\n",
      "\n",
      "Rectangle: [(5, 9), (9, 9), (9, 17), (5, 17)]\n",
      "\n",
      "Circle: [(7, 9), (9, 9), (9, 15)]\n",
      "\n"
     ]
    }
   ],
   "source": [
    "#testing:\n",
    "c=Circle(9,3,5)\n",
    "r=Rectangle(4,8,5,9)\n",
    "t=Triangle(2,6,4,7,9)\n",
    "print(f\"Triangle: {c.get_boundary_points()}\\n\")\n",
    "print(f\"Rectangle: {r.get_boundary_points()}\\n\")\n",
    "print(f\"Circle: {t.get_boundary_points()}\\n\")"
   ]
  },
  {
   "cell_type": "markdown",
   "metadata": {},
   "source": [
    "8. Add a function to the object classes, including the base, that tests if a given set of $x$ and $y$ coordinates are inside of the object. You'll have to think through how to determine if a set of coordinates are inside an object for each object type."
   ]
  },
  {
   "cell_type": "code",
   "execution_count": 96,
   "metadata": {},
   "outputs": [],
   "source": [
    "class Shape:\n",
    "    def area(self):\n",
    "        raise NotImplementedError(\"ERR\")\n",
    "\n",
    "    def perimeter(self):\n",
    "        raise NotImplementedError(\"ERR\")\n",
    "    \n",
    "    def get_boundary_points(self):\n",
    "        raise NotImplementedError(\"ERR\")\n",
    "    \n",
    "    def in_shape(self, x, y):\n",
    "        raise NotImplementedError(\"ERR\")\n",
    "\n",
    "class Circle(Shape):\n",
    "    def __init__(self, radius, x, y):\n",
    "        self.__radius = radius\n",
    "        self.__x = x\n",
    "        self.__y = y\n",
    "    \n",
    "    def area(self):\n",
    "        return math.pi * self.__radius ** 2\n",
    "    \n",
    "    def perimeter(self):\n",
    "        return 2 * math.pi * self.__radius\n",
    "    \n",
    "    def get_boundary_points(self):\n",
    "        points = []\n",
    "        for theta in range(0, 360, 360 // 16):  # Iterate 16 times\n",
    "            x = self.__x + self.__radius * math.cos(math.radians(theta))\n",
    "            y = self.__y + self.__radius * math.sin(math.radians(theta))\n",
    "            points.append((x, y))\n",
    "        return points\n",
    "    \n",
    "    def in_shape(self, x, y):\n",
    "        distance = math.sqrt((x - self.__x) ** 2 + (y - self.__y) ** 2)\n",
    "        return distance < self.__radius\n",
    "\n",
    "class Rectangle(Shape):\n",
    "    def __init__(self, length, width, x, y):\n",
    "        self.__length = length\n",
    "        self.__width = width\n",
    "        self.__x = x\n",
    "        self.__y = y\n",
    "    \n",
    "    def area(self):\n",
    "        return self.__length * self.__width\n",
    "    \n",
    "    def perimeter(self):\n",
    "        return 2 * self.__length + 2 * self.__width\n",
    "    def get_length(self):\n",
    "        return self.__length\n",
    "\n",
    "    def get_width(self):\n",
    "        return self.__width\n",
    "\n",
    "    def get_x(self):\n",
    "        return self.__x\n",
    "\n",
    "    def get_y(self):\n",
    "        return self.__y\n",
    "    \n",
    "    def get_boundary_points(self):\n",
    "        points = []\n",
    "        points.append((self.__x, self.__y))\n",
    "        points.append((self.__x + self.__length, self.__y))\n",
    "        points.append((self.__x + self.__length, self.__y + self.__width))\n",
    "        points.append((self.__x, self.__y + self.__width))\n",
    "        return points\n",
    "    \n",
    "    def in_shape(self, x, y):\n",
    "        return (self.__x <= x <= self.__x + self.__length) and (self.__y <= y <= self.__y + self.__width)\n",
    "\n",
    "class Triangle(Shape):\n",
    "    def __init__(self, side1, side2, side3, x, y):\n",
    "        self.__side1 = side1\n",
    "        self.__side2 = side2\n",
    "        self.__side3 = side3\n",
    "        self.__x = x\n",
    "        self.__y = y\n",
    "    \n",
    "    def area(self):\n",
    "        s = (self.__side1 + self.__side2 + self.__side3) / 2\n",
    "        return math.sqrt(s * (s - self.__side1) * (s - self.__side2) * (s - self.__side3))\n",
    "\n",
    "    def perimeter(self):\n",
    "        return self.__side1 + self.__side2 + self.__side3\n",
    "    \n",
    "    def get_boundary_points(self):\n",
    "        points = []\n",
    "        points.append((self.__x, self.__y))\n",
    "        points.append((self.__x + self.__side1, self.__y))\n",
    "        points.append((self.__x + self.__side1, self.__y + self.__side2))\n",
    "        return points\n",
    "    \n",
    "    def in_shape(self, x, y):\n",
    "        total_area = self.area()\n",
    "        sub_triangle1_area = Triangle(x - self.__x, y - self.__y, self.__side2, 0, 0).area()\n",
    "        sub_triangle2_area = Triangle(x - self.__x - self.__side1, y - self.__y, self.__side3, 0, 0).area()\n",
    "        sub_triangle3_area = Triangle(x - self.__x, y - self.__y, self.__side1, 0, 0).area()\n",
    "        return math.isclose(total_area, sub_triangle1_area + sub_triangle2_area + sub_triangle3_area)\n"
   ]
  },
  {
   "cell_type": "code",
   "execution_count": 97,
   "metadata": {},
   "outputs": [
    {
     "name": "stdout",
     "output_type": "stream",
     "text": [
      "Triangle: False\n",
      "\n",
      "Rectangle: False\n",
      "\n",
      "Circle: False\n",
      "\n"
     ]
    }
   ],
   "source": [
    "#testing:\n",
    "c=Circle(5,7,2)\n",
    "r=Rectangle(7,9,8,1)\n",
    "t=Triangle(5,4,3,1,4)\n",
    "print(f\"Triangle: {c.in_shape(2,5)}\\n\")\n",
    "print(f\"Rectangle: {r.in_shape(1,7)}\\n\")\n",
    "print(f\"Circle: {t.in_shape(7,7)}\\n\")"
   ]
  },
  {
   "cell_type": "markdown",
   "metadata": {},
   "source": [
    "9. Add a function in the base class of the object classes that returns true/false testing that the object overlaps with another object."
   ]
  },
  {
   "cell_type": "code",
   "execution_count": 108,
   "metadata": {},
   "outputs": [],
   "source": [
    "class Shape:\n",
    "    def area(self):\n",
    "        raise NotImplementedError(\"ERR\")\n",
    "\n",
    "    def perimeter(self):\n",
    "        raise NotImplementedError(\"ERR\")\n",
    "    \n",
    "    def get_boundary_points(self):\n",
    "        raise NotImplementedError(\"ERR\")\n",
    "    \n",
    "    def in_shape(self, x, y):\n",
    "        raise NotImplementedError(\"ERR\")\n",
    "    \n",
    "    def over_check(self, other):\n",
    "        raise NotImplementedError(\"ERR\")\n",
    "\n",
    "class Circle(Shape):\n",
    "    def __init__(self, radius, x, y):\n",
    "        self.__radius = radius\n",
    "        self.__x = x\n",
    "        self.__y = y\n",
    "    \n",
    "    def area(self):\n",
    "        return math.pi * self.__radius ** 2\n",
    "    \n",
    "    def perimeter(self):\n",
    "        return 2 * math.pi * self.__radius\n",
    "    \n",
    "    def get_boundary_points(self):\n",
    "        points = []\n",
    "        for theta in range(0, 360, 360 // 16):  # Iterate 16 times\n",
    "            x = self.__x + self.__radius * math.cos(math.radians(theta))\n",
    "            y = self.__y + self.__radius * math.sin(math.radians(theta))\n",
    "            points.append((x, y))\n",
    "        return points\n",
    "    \n",
    "    def in_shape(self, x, y):\n",
    "        distance = math.sqrt((x - self.__x) ** 2 + (y - self.__y) ** 2)\n",
    "        return distance < self.__radius\n",
    "    \n",
    "    def over_check(self, other):\n",
    "        if isinstance(other, Circle):\n",
    "            distance_between_centers = math.sqrt((self.__x - other.__x) ** 2 + (self.__y - other.__y) ** 2)\n",
    "            return distance_between_centers < (self.__radius + other.__radius)\n",
    "        elif isinstance(other, Rectangle):\n",
    "            closest_x = max(other.get_x(), min(self.__x, other.get_x() + other.get_length()))\n",
    "            closest_y = max(other.get_y(), min(self.__y, other.get_y() + other.get_width()))\n",
    "            distance_x = self.__x - closest_x\n",
    "            distance_y = self.__y - closest_y\n",
    "            return (distance_x ** 2 + distance_y ** 2) < (self.__radius ** 2)\n",
    "        else:\n",
    "            return False  # No overlap check implemented for other shapes\n",
    "\n",
    "class Rectangle(Shape):\n",
    "    def __init__(self, length, width, x, y):\n",
    "        self.__length = length\n",
    "        self.__width = width\n",
    "        self.__x = x\n",
    "        self.__y = y\n",
    "    \n",
    "    def area(self):\n",
    "        return self.__length * self.__width\n",
    "    \n",
    "    def perimeter(self):\n",
    "        return 2 * self.__length + 2 * self.__width\n",
    "    \n",
    "    def get_length(self):\n",
    "        return self.__length\n",
    "\n",
    "    def get_width(self):\n",
    "        return self.__width\n",
    "\n",
    "    def get_x(self):\n",
    "        return self.__x\n",
    "\n",
    "    def get_y(self):\n",
    "        return self.__y\n",
    "    \n",
    "    def get_boundary_points(self):\n",
    "        points = []\n",
    "        points.append((self.__x, self.__y))\n",
    "        points.append((self.__x + self.__length, self.__y))\n",
    "        points.append((self.__x + self.__length, self.__y + self.__width))\n",
    "        points.append((self.__x, self.__y + self.__width))\n",
    "        return points\n",
    "    \n",
    "    def in_shape(self, x, y):\n",
    "        return (self.__x <= x <= self.__x + self.__length) and (self.__y <= y <= self.__y + self.__width)\n",
    "    \n",
    "    def over_check(self, other):\n",
    "        if isinstance(other, Rectangle):\n",
    "            return not (self.__x + self.__length < other.get_x() or\n",
    "                        other.get_x() + other.get_length() < self.__x or\n",
    "                        self.__y + self.__width < other.get_y() or\n",
    "                        other.get_y() + other.get_width() < self.__y)\n",
    "        elif isinstance(other, Circle):\n",
    "            closest_x = max(self.__x, min(other.get_x(), self.__x + self.__length))\n",
    "            closest_y = max(self.__y, min(other.get_y(), self.__y + self.__width))\n",
    "            distance_x = other.get_x() - closest_x\n",
    "            distance_y = other.get_y() - closest_y\n",
    "            return (distance_x ** 2 + distance_y ** 2) < (other.get_radius() ** 2)\n",
    "        else:\n",
    "            return False  # No overlap check implemented for other shapes\n",
    "\n",
    "class Triangle(Shape):\n",
    "    def __init__(self, side1, side2, side3, x, y):\n",
    "        self.__side1 = side1\n",
    "        self.__side2 = side2\n",
    "        self.__side3 = side3\n",
    "        self.__x = x\n",
    "        self.__y = y\n",
    "    \n",
    "    def area(self):\n",
    "        s = (self.__side1 + self.__side2 + self.__side3) / 2\n",
    "        return math.sqrt(s * (s - self.__side1) * (s - self.__side2) * (s - self.__side3))\n",
    "\n",
    "    def perimeter(self):\n",
    "        return self.__side1 + self.__side2 + self.__side3\n",
    "    \n",
    "    def get_x(self):\n",
    "        return self.__x\n",
    "\n",
    "    def get_y(self):\n",
    "        return self.__y\n",
    "    \n",
    "    def get_boundary_points(self):\n",
    "        points = []\n",
    "        points.append((self.__x, self.__y))\n",
    "        points.append((self.__x + self.__side1, self.__y))\n",
    "        points.append((self.__x + self.__side1, self.__y + self.__side2))\n",
    "        return points\n",
    "    \n",
    "    def in_shape(self, x, y):\n",
    "        total_area = self.area()\n",
    "        sub_triangle1_area = Triangle(x - self.__x, y - self.__y, self.__side2, 0, 0).area()\n",
    "        sub_triangle2_area = Triangle(x - self.__x - self.__side1, y - self.__y, self.__side3, 0, 0).area()\n",
    "        sub_triangle3_area = Triangle(x - self.__x, y - self.__y, self.__side1, 0, 0).area()\n",
    "        return math.isclose(total_area, sub_triangle1_area + sub_triangle2_area + sub_triangle3_area)\n",
    "\n",
    "    def over_check(self, other):\n",
    "        if isinstance(other, Triangle):\n",
    "            if self.in_shape(other.get_x(), other.get_y()) or \\\n",
    "               self.in_shape(other.get_x() + other.get_length(), other.get_y() + other.get_width()) or \\\n",
    "               self.in_shape(other.get_x() + other.get_length(), other.get_y()):\n",
    "                return True\n",
    "            if other.in_shape(self.__x, self.__y) or \\\n",
    "               other.in_shape(self.__x + self.__side1, self.__y + self.__side2) or \\\n",
    "               other.in_shape(self.__x + self.__side1, self.__y):\n",
    "                return True\n",
    "            return False  # No intersect method implemented for triangles\n",
    "        else:\n",
    "            return False  # No overlap check implemented for other shapes\n"
   ]
  },
  {
   "cell_type": "code",
   "execution_count": 110,
   "metadata": {},
   "outputs": [
    {
     "name": "stdout",
     "output_type": "stream",
     "text": [
      "Triangle: True\n",
      "\n",
      "Rectangle: True\n",
      "\n",
      "Circle: False\n",
      "\n"
     ]
    }
   ],
   "source": [
    "#testing:\n",
    "c=Circle(5,7,2)\n",
    "r=Rectangle(7,9,8,1)\n",
    "t=Triangle(5,4,3,1,4)\n",
    "print(f\"Triangle: {c.over_check(c)}\\n\")\n",
    "print(f\"Rectangle: {r.over_check(r)}\\n\")\n",
    "print(f\"Circle: {t.over_check(c)}\\n\")"
   ]
  },
  {
   "cell_type": "markdown",
   "metadata": {},
   "source": [
    "10. Copy the `Canvas` class from lecture to in a python file creating a `paint` module. Copy your classes from above into the module and implement paint functions. Implement a `CompoundShape` class. Create a simple drawing demonstrating that all of your classes are working."
   ]
  },
  {
   "cell_type": "code",
   "execution_count": null,
   "metadata": {},
   "outputs": [],
   "source": []
  },
  {
   "cell_type": "markdown",
   "metadata": {},
   "source": [
    "11. Create a `RasterDrawing` class. Demonstrate that you can create a drawing made of several shapes, paint the drawing, modify the drawing, and paint it again. "
   ]
  },
  {
   "cell_type": "code",
   "execution_count": null,
   "metadata": {},
   "outputs": [],
   "source": []
  },
  {
   "cell_type": "markdown",
   "metadata": {},
   "source": [
    "12. Implement the ability to load/save raster drawings and demonstate that your method works. One way to implement this ability:\n",
    "\n",
    "   * Overload `__repr__` functions of all objects to return strings of the python code that would construct the object.\n",
    "   \n",
    "   * In the save method of raster drawing class, store the representations into the file.\n",
    "   * Write a loader function that reads the file and uses `eval` to instantiate the object.\n",
    "\n",
    "For example:"
   ]
  },
  {
   "cell_type": "code",
   "execution_count": 1,
   "metadata": {},
   "outputs": [],
   "source": [
    "class foo:\n",
    "    def __init__(self,a,b=None):\n",
    "        self.a=a\n",
    "        self.b=b\n",
    "        \n",
    "    def __repr__(self):\n",
    "        return \"foo(\"+repr(self.a)+\",\"+repr(self.b)+\")\"\n",
    "    \n",
    "    def save(self,filename):\n",
    "        f=open(filename,\"w\")\n",
    "        f.write(self.__repr__())\n",
    "        f.close()\n",
    "        \n",
    "   \n",
    "def foo_loader(filename):\n",
    "    f=open(filename,\"r\")\n",
    "    tmp=eval(f.read())\n",
    "    f.close()\n",
    "    return tmp\n"
   ]
  },
  {
   "cell_type": "code",
   "execution_count": 2,
   "metadata": {},
   "outputs": [
    {
     "name": "stdout",
     "output_type": "stream",
     "text": [
      "foo(1,'hello')\n"
     ]
    }
   ],
   "source": [
    "# Test\n",
    "print(repr(foo(1,\"hello\")))"
   ]
  },
  {
   "cell_type": "code",
   "execution_count": 3,
   "metadata": {},
   "outputs": [],
   "source": [
    "# Create an object and save it\n",
    "ff=foo(1,\"hello\")\n",
    "ff.save(\"Test.foo\")"
   ]
  },
  {
   "cell_type": "code",
   "execution_count": 4,
   "metadata": {},
   "outputs": [
    {
     "name": "stdout",
     "output_type": "stream",
     "text": [
      "foo(1,'hello')"
     ]
    }
   ],
   "source": [
    "# Check contents of the saved file\n",
    "!cat Test.foo"
   ]
  },
  {
   "cell_type": "code",
   "execution_count": 5,
   "metadata": {},
   "outputs": [
    {
     "data": {
      "text/plain": [
       "foo(1,'hello')"
      ]
     },
     "execution_count": 5,
     "metadata": {},
     "output_type": "execute_result"
    }
   ],
   "source": [
    "# Load the object\n",
    "ff_reloaded=foo_loader(\"Test.foo\")\n",
    "ff_reloaded"
   ]
  },
  {
   "cell_type": "code",
   "execution_count": null,
   "metadata": {},
   "outputs": [],
   "source": []
  },
  {
   "cell_type": "code",
   "execution_count": null,
   "metadata": {},
   "outputs": [],
   "source": []
  }
 ],
 "metadata": {
  "kernelspec": {
   "display_name": "Python 3 (ipykernel)",
   "language": "python",
   "name": "python3"
  },
  "language_info": {
   "codemirror_mode": {
    "name": "ipython",
    "version": 3
   },
   "file_extension": ".py",
   "mimetype": "text/x-python",
   "name": "python",
   "nbconvert_exporter": "python",
   "pygments_lexer": "ipython3",
   "version": "3.8.10"
  }
 },
 "nbformat": 4,
 "nbformat_minor": 2
}
