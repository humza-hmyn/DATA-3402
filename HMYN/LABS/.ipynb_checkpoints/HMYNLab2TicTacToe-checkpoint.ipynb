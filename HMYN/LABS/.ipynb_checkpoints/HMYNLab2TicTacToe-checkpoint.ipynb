{
 "cells": [
  {
   "cell_type": "markdown",
   "metadata": {},
   "source": [
    "## Lab 2- Tic Tac Toe\n",
    "\n",
    "In this lab your will build a n x n Tic Tac Toe game. As you do the exercises, make sure your solutions work for any size Tic Tac Toe game. "
   ]
  },
  {
   "cell_type": "markdown",
   "metadata": {},
   "source": [
    "*Exercise 1:* Write a function that creates an n by n matrix (of list of lists) which will represent the state of a Tie Tac Toe game. Let 0, 1, and 2 represent empty, \"X\", and \"O\", respectively.\n"
   ]
  },
  {
   "cell_type": "code",
   "execution_count": 583,
   "metadata": {},
   "outputs": [],
   "source": [
    "# Write you solution here\n",
    "player_1 = 1\n",
    "player_2 = 2\n",
    "empty = 0\n",
    "player_1_piece = \"X\"\n",
    "player_2_piece = \"O\"\n",
    "empty_space = \" \"\n",
    "\n",
    "board=[]\n",
    "def make_board(n_dim):\n",
    "    board.clear()\n",
    "    for i in range(n_dim):\n",
    "        row_list=[]\n",
    "        for j in range(n_dim):\n",
    "            row_list.append(0)\n",
    "        board.append(row_list)\n",
    "    return board"
   ]
  },
  {
   "cell_type": "code",
   "execution_count": 472,
   "metadata": {},
   "outputs": [
    {
     "name": "stdout",
     "output_type": "stream",
     "text": [
      "5\n"
     ]
    },
    {
     "data": {
      "text/plain": [
       "[[0, 0, 0, 0, 0],\n",
       " [0, 0, 0, 0, 0],\n",
       " [0, 0, 0, 0, 0],\n",
       " [0, 0, 0, 0, 0],\n",
       " [0, 0, 0, 0, 0]]"
      ]
     },
     "execution_count": 472,
     "metadata": {},
     "output_type": "execute_result"
    }
   ],
   "source": [
    "# Test your solution here\n",
    "make_board(int(input()))"
   ]
  },
  {
   "cell_type": "markdown",
   "metadata": {},
   "source": [
    "*Exercise 2:* Write a function that takes 2 integers `n` and `m` as input and draws a `n` by `m` game board. For example the following is a 3x3 board:\n",
    "```\n",
    "   --- --- --- \n",
    "  |   |   |   | \n",
    "   --- --- ---  \n",
    "  |   |   |   | \n",
    "   --- --- ---  \n",
    "  |   |   |   | \n",
    "   --- --- --- \n",
    "   ```"
   ]
  },
  {
   "cell_type": "code",
   "execution_count": 473,
   "metadata": {},
   "outputs": [],
   "source": [
    "# Write you solution here\n",
    "\n",
    "def graphic_board_nm(n_dim,m_dim):\n",
    "    print(\" ---\"*m_dim)\n",
    "    for i in range(n_dim):\n",
    "        print(\"| \",end=\"  \")\n",
    "        for j in range(m_dim):\n",
    "            print(\"| \",end=\"  \")\n",
    "        print()  \n",
    "        print(\" ---\"*m_dim)"
   ]
  },
  {
   "cell_type": "code",
   "execution_count": 474,
   "metadata": {},
   "outputs": [
    {
     "name": "stdout",
     "output_type": "stream",
     "text": [
      "Enter the dimensions (row then column #/space separated): 2 4\n",
      " --- --- --- ---\n",
      "|   |   |   |   |   \n",
      " --- --- --- ---\n",
      "|   |   |   |   |   \n",
      " --- --- --- ---\n"
     ]
    }
   ],
   "source": [
    "x, y = map(int, input(\"Enter the dimensions (row then column #/space separated): \").split(\" \"))\n",
    "graphic_board_nm(x,y)"
   ]
  },
  {
   "cell_type": "markdown",
   "metadata": {},
   "source": [
    "*Exercise 3:* Modify exercise 2, so that it takes a matrix of the form from exercise 1 and draws a tic-tac-toe board with \"X\"s and \"O\"s.  "
   ]
  },
  {
   "cell_type": "code",
   "execution_count": 575,
   "metadata": {},
   "outputs": [],
   "source": [
    "# Write you solution here\n",
    "player_1 = 1\n",
    "player_2 = 2\n",
    "empty = 0\n",
    "x_piece = \"X\"\n",
    "o_piece = \"O\"\n",
    "no_piece = \" \"\n",
    "player_map = {player_1: x_piece,\n",
    "                  player_2: o_piece,\n",
    "                  empty: no_piece}\n",
    "\n",
    "def make_grid(demo_board):\n",
    "    num_rows = len(demo_board)\n",
    "    num_cols = len(demo_board[0])\n",
    "    print(\" ---\"*num_cols)\n",
    "    for i in range(num_rows):\n",
    "        print(\"|\",end=\" \")\n",
    "        for j in range(num_cols):\n",
    "            print(player_map[demo_board[i][j]],end=\" \")\n",
    "            print(\"|\",end=\" \")\n",
    "        print()  \n",
    "        print(\" ---\"*num_cols)"
   ]
  },
  {
   "cell_type": "code",
   "execution_count": 576,
   "metadata": {},
   "outputs": [
    {
     "name": "stdout",
     "output_type": "stream",
     "text": [
      " --- --- ---\n",
      "| O | O |   | \n",
      " --- --- ---\n",
      "| O | X |   | \n",
      " --- --- ---\n",
      "| O | X | X | \n",
      " --- --- ---\n"
     ]
    }
   ],
   "source": [
    "# Test your solution here\n",
    "winner_is_2 = [[2, 2, 0],\n",
    "\t[2, 1, 0],\n",
    "\t[2, 1, 1]]\n",
    "\n",
    "make_grid(winner_is_2)"
   ]
  },
  {
   "cell_type": "markdown",
   "metadata": {},
   "source": [
    "*Exercise 4:* Write a function that takes a `n` by `n` matrix representing a tic-tac-toe game, and returns -1, 0, 1, or 2 indicating the game is incomplete, the game is a draw, player 1 has won, or player 2 has one, respectively. Here are some example inputs you can use to test your code:"
   ]
  },
  {
   "cell_type": "code",
   "execution_count": 555,
   "metadata": {},
   "outputs": [],
   "source": [
    "# Test your solution here\n",
    "\n",
    "def row_winner(board):\n",
    "    num_rows = len(board)\n",
    "    num_cols = num_rows\n",
    "    for i in range(num_rows):\n",
    "        if board[i] == [player_1]*num_rows:\n",
    "            return player_1\n",
    "        if board[i] == [player_2]*num_rows:\n",
    "            return player_2\n",
    "    return False\n",
    "    \n",
    "def col_winner(board):\n",
    "    col_list = []\n",
    "    num_rows = len(board)\n",
    "    num_cols = num_rows\n",
    "    for i in range(num_cols):\n",
    "        col = []\n",
    "        for j in range(num_rows):\n",
    "            col.append(board[j][i])\n",
    "        col_list.append(col)\n",
    "    \n",
    "    for i in range(num_cols):\n",
    "        if is_winner(col_list[i]) == player_1:\n",
    "            return player_1\n",
    "        if is_winner(col_list[i]) == player_2:\n",
    "            return player_2\n",
    "    return False\n",
    "\n",
    "def diag_winner(board):\n",
    "    # Make diagonal and anti-diagonal lists\n",
    "    num_rows = len(board)\n",
    "    num_cols = num_rows\n",
    "    diag = []\n",
    "    anti_diag = []\n",
    "    for j in range(num_rows):\n",
    "        diag.append(board[j][j])\n",
    "        anti_diag.append(board[j][num_cols-j-1])\n",
    "    diag_list = [diag, anti_diag]\n",
    "    \n",
    "    for i in range(2):\n",
    "        if is_winner(diag_list[i]) == player_1:\n",
    "            return player_1\n",
    "        if is_winner(diag_list[i]) == player_2:\n",
    "            return player_2\n",
    "    return False\n",
    "\n",
    "def is_winner(lst):\n",
    "    if lst == [player_1]*len(lst):\n",
    "        return player_1\n",
    "    elif lst == [player_2]*len(lst):\n",
    "        return player_2\n",
    "    else:\n",
    "        return False\n",
    "    \n",
    "def game_draw(board):\n",
    "    size = len(board)\n",
    "    fill_count = 0\n",
    "    for row in board:\n",
    "        for cell in row:\n",
    "            if cell == 1 or cell == 2:\n",
    "                fill_count += 1\n",
    "    if fill_count == size * size:\n",
    "        return True  # Return True to indicate a draw\n",
    "    else:\n",
    "        return False  # Return False otherwise\n",
    "\n",
    "def game_state(in_board):\n",
    "    row_w = row_winner(in_board)\n",
    "    col_w = col_winner(in_board)\n",
    "    diag_w = diag_winner(in_board)\n",
    "    draw_check = game_draw(in_board)\n",
    "    \n",
    "    #print(\"DEBUG\")\n",
    "    #print(row_w, col_w, diag_w, draw_check)\n",
    "    \n",
    "    if row_w == player_1 or col_w == player_1 or diag_w == player_1:\n",
    "        print(\"PLAYER ONE WINS!!!\")\n",
    "        return 1\n",
    "    elif row_w == player_2 or col_w == player_2 or diag_w == player_2:\n",
    "        print(\"PLAYER TWO WINS!!!\")\n",
    "        return 2\n",
    "    elif draw_check == 3:\n",
    "        print(\"Nobody wins boo hoo :(\")\n",
    "        return 0\n",
    "    print(\"What the??\")\n",
    "    return -1"
   ]
  },
  {
   "cell_type": "code",
   "execution_count": 556,
   "metadata": {},
   "outputs": [
    {
     "name": "stdout",
     "output_type": "stream",
     "text": [
      "PLAYER TWO WINS!!!\n",
      "PLAYER ONE WINS!!!\n",
      "PLAYER ONE WINS!!!\n",
      "What the??\n",
      "What the??\n"
     ]
    },
    {
     "data": {
      "text/plain": [
       "-1"
      ]
     },
     "execution_count": 556,
     "metadata": {},
     "output_type": "execute_result"
    }
   ],
   "source": [
    "winner_is_2 = [[2, 2, 0],\n",
    "\t[2, 1, 0],\n",
    "\t[2, 1, 1]]\n",
    "game_state(winner_is_2)\n",
    "\n",
    "winner_is_1 = [[1, 2, 0],\n",
    "\t[2, 1, 0],\n",
    "\t[2, 1, 1]]\n",
    "game_state(winner_is_1)\n",
    "\n",
    "winner_is_also_1 = [[0, 1, 0],\n",
    "\t[2, 1, 0],\n",
    "\t[2, 1, 1]]\n",
    "game_state(winner_is_also_1)\n",
    "\n",
    "no_winner = [[1, 2, 0],\n",
    "\t[2, 1, 0],\n",
    "\t[2, 1, 2]]\n",
    "game_state(no_winner)\n",
    "\n",
    "also_no_winner = [[1, 2, 0],\n",
    "\t[2, 1, 0],\n",
    "\t[2, 1, 0]]\n",
    "game_state(also_no_winner)"
   ]
  },
  {
   "cell_type": "markdown",
   "metadata": {},
   "source": [
    "*Exercise 5:* Write a function that takes a game board, player number, and `(x,y)` coordinates and places \"X\" or \"O\" in the correct location of the game board. Make sure that you only allow filling previously empty locations. Return `True` or `False` to indicate successful placement of \"X\" or \"O\"."
   ]
  },
  {
   "cell_type": "code",
   "execution_count": 557,
   "metadata": {},
   "outputs": [],
   "source": [
    "player_1 = 1\n",
    "player_2 = 2\n",
    "empty = 0\n",
    "x_piece = \"X\"\n",
    "o_piece = \"O\"\n",
    "no_piece = \" \"\n",
    "player_map = {\n",
    "    player_1: x_piece,\n",
    "    player_2: o_piece,\n",
    "    empty: no_piece,\n",
    "    0: no_piece  # Map integer 0 to an empty string\n",
    "}\n",
    "\n",
    "# Write you solution here\n",
    "def piece_place(board,player_num,x_loc,y_loc):\n",
    "    #print(x_loc,y_loc)\n",
    "    #check if their inputs even fit in the grid...\n",
    "    if x_loc > len(board) or y_loc > len(board[0]):\n",
    "        print(\"Invalid Coordinates!\")\n",
    "        return False \n",
    "    x_loc -= 1 #transkating Human inputs to machine indexing!\n",
    "    y_loc -= 1\n",
    "    \n",
    "    # Show them the board\n",
    "    make_grid(board)\n",
    "    \n",
    "    # Check if the chosen position is empty\n",
    "    if player_num == 1:\n",
    "        #print(x_loc,y_loc)\n",
    "        if board[x_loc][y_loc] == 0:\n",
    "            board[x_loc][y_loc] = \"X\"\n",
    "            make_grid(board)\n",
    "        else:\n",
    "            print(\"Invalid move! Space taken\")\n",
    "            return False\n",
    "    elif player_num == 2:\n",
    "        #print(x_loc,y_loc)\n",
    "        if board[x_loc][y_loc] == 0:\n",
    "            board[x_loc][y_loc] = 'O'\n",
    "            make_grid(board)\n",
    "        else:\n",
    "            print(\"Invalid move! Space taken\")\n",
    "            return False\n",
    "    return True"
   ]
  },
  {
   "cell_type": "code",
   "execution_count": 558,
   "metadata": {},
   "outputs": [
    {
     "name": "stdout",
     "output_type": "stream",
     "text": [
      "Invalid Coordinates!\n"
     ]
    },
    {
     "data": {
      "text/plain": [
       "False"
      ]
     },
     "execution_count": 558,
     "metadata": {},
     "output_type": "execute_result"
    }
   ],
   "source": [
    "# Test your solution here\n",
    "demo_board=[[0,0,0],\n",
    "\t[0,2,0],\n",
    "\t[0,0,1]]\n",
    "\n",
    "#demo is a 3x3 grid!\n",
    "piece_place(demo_board,1,2,4)"
   ]
  },
  {
   "cell_type": "code",
   "execution_count": 559,
   "metadata": {},
   "outputs": [
    {
     "name": "stdout",
     "output_type": "stream",
     "text": [
      " --- --- ---\n",
      "|   |   |   | \n",
      " --- --- ---\n",
      "|   | O |   | \n",
      " --- --- ---\n",
      "|   |   | X | \n",
      " --- --- ---\n",
      "Invalid move! Space taken\n"
     ]
    },
    {
     "data": {
      "text/plain": [
       "False"
      ]
     },
     "execution_count": 559,
     "metadata": {},
     "output_type": "execute_result"
    }
   ],
   "source": [
    "piece_place(demo_board,1,3,3)"
   ]
  },
  {
   "cell_type": "code",
   "execution_count": 562,
   "metadata": {},
   "outputs": [
    {
     "name": "stdout",
     "output_type": "stream",
     "text": [
      " --- --- ---\n",
      "|   |   |   | \n",
      " --- --- ---\n",
      "|   | O |   | \n",
      " --- --- ---\n",
      "|   |   | X | \n",
      " --- --- ---\n",
      "Invalid move! Space taken\n"
     ]
    },
    {
     "data": {
      "text/plain": [
       "False"
      ]
     },
     "execution_count": 562,
     "metadata": {},
     "output_type": "execute_result"
    }
   ],
   "source": [
    "piece_place(demo_board,2,3,3)"
   ]
  },
  {
   "cell_type": "code",
   "execution_count": 580,
   "metadata": {},
   "outputs": [
    {
     "name": "stdout",
     "output_type": "stream",
     "text": [
      "Player Map:\n",
      "1: X\n",
      "2: O\n",
      "0:  \n",
      "\n",
      "Demo Board:\n",
      "['O', 0, 0]\n",
      "[0, 2, 0]\n",
      "[0, 0, 1]\n"
     ]
    }
   ],
   "source": [
    "print(\"Player Map:\")\n",
    "for key, value in player_map.items():\n",
    "    print(f\"{key}: {value}\")\n",
    "\n",
    "print(\"\\nDemo Board:\")\n",
    "for row in demo_board:\n",
    "    print(row)"
   ]
  },
  {
   "cell_type": "code",
   "execution_count": 581,
   "metadata": {},
   "outputs": [
    {
     "data": {
      "text/plain": [
       "[['O', 0, 0], [0, 2, 0], [0, 0, 1]]"
      ]
     },
     "execution_count": 581,
     "metadata": {},
     "output_type": "execute_result"
    }
   ],
   "source": [
    "demo_board"
   ]
  },
  {
   "cell_type": "code",
   "execution_count": 584,
   "metadata": {},
   "outputs": [
    {
     "name": "stdout",
     "output_type": "stream",
     "text": [
      " --- --- ---\n",
      "| "
     ]
    },
    {
     "ename": "KeyError",
     "evalue": "'O'",
     "output_type": "error",
     "traceback": [
      "\u001b[0;31m---------------------------------------------------------------------------\u001b[0m",
      "\u001b[0;31mKeyError\u001b[0m                                  Traceback (most recent call last)",
      "Cell \u001b[0;32mIn [584], line 1\u001b[0m\n\u001b[0;32m----> 1\u001b[0m \u001b[43mpiece_place\u001b[49m\u001b[43m(\u001b[49m\u001b[43mdemo_board\u001b[49m\u001b[43m,\u001b[49m\u001b[38;5;241;43m1\u001b[39;49m\u001b[43m,\u001b[49m\u001b[38;5;241;43m1\u001b[39;49m\u001b[43m,\u001b[49m\u001b[38;5;241;43m1\u001b[39;49m\u001b[43m)\u001b[49m\n",
      "Cell \u001b[0;32mIn [557], line 25\u001b[0m, in \u001b[0;36mpiece_place\u001b[0;34m(board, player_num, x_loc, y_loc)\u001b[0m\n\u001b[1;32m     22\u001b[0m y_loc \u001b[38;5;241m-\u001b[39m\u001b[38;5;241m=\u001b[39m \u001b[38;5;241m1\u001b[39m\n\u001b[1;32m     24\u001b[0m \u001b[38;5;66;03m# Show them the board\u001b[39;00m\n\u001b[0;32m---> 25\u001b[0m \u001b[43mmake_grid\u001b[49m\u001b[43m(\u001b[49m\u001b[43mboard\u001b[49m\u001b[43m)\u001b[49m\n\u001b[1;32m     27\u001b[0m \u001b[38;5;66;03m# Check if the chosen position is empty\u001b[39;00m\n\u001b[1;32m     28\u001b[0m \u001b[38;5;28;01mif\u001b[39;00m player_num \u001b[38;5;241m==\u001b[39m \u001b[38;5;241m1\u001b[39m:\n\u001b[1;32m     29\u001b[0m     \u001b[38;5;66;03m#print(x_loc,y_loc)\u001b[39;00m\n",
      "Cell \u001b[0;32mIn [575], line 19\u001b[0m, in \u001b[0;36mmake_grid\u001b[0;34m(demo_board)\u001b[0m\n\u001b[1;32m     17\u001b[0m \u001b[38;5;28mprint\u001b[39m(\u001b[38;5;124m\"\u001b[39m\u001b[38;5;124m|\u001b[39m\u001b[38;5;124m\"\u001b[39m,end\u001b[38;5;241m=\u001b[39m\u001b[38;5;124m\"\u001b[39m\u001b[38;5;124m \u001b[39m\u001b[38;5;124m\"\u001b[39m)\n\u001b[1;32m     18\u001b[0m \u001b[38;5;28;01mfor\u001b[39;00m j \u001b[38;5;129;01min\u001b[39;00m \u001b[38;5;28mrange\u001b[39m(num_cols):\n\u001b[0;32m---> 19\u001b[0m     \u001b[38;5;28mprint\u001b[39m(\u001b[43mplayer_map\u001b[49m\u001b[43m[\u001b[49m\u001b[43mdemo_board\u001b[49m\u001b[43m[\u001b[49m\u001b[43mi\u001b[49m\u001b[43m]\u001b[49m\u001b[43m[\u001b[49m\u001b[43mj\u001b[49m\u001b[43m]\u001b[49m\u001b[43m]\u001b[49m,end\u001b[38;5;241m=\u001b[39m\u001b[38;5;124m\"\u001b[39m\u001b[38;5;124m \u001b[39m\u001b[38;5;124m\"\u001b[39m)\n\u001b[1;32m     20\u001b[0m     \u001b[38;5;28mprint\u001b[39m(\u001b[38;5;124m\"\u001b[39m\u001b[38;5;124m|\u001b[39m\u001b[38;5;124m\"\u001b[39m,end\u001b[38;5;241m=\u001b[39m\u001b[38;5;124m\"\u001b[39m\u001b[38;5;124m \u001b[39m\u001b[38;5;124m\"\u001b[39m)\n\u001b[1;32m     21\u001b[0m \u001b[38;5;28mprint\u001b[39m()  \n",
      "\u001b[0;31mKeyError\u001b[0m: 'O'"
     ]
    }
   ],
   "source": [
    "piece_place(demo_board,1,1,1)"
   ]
  },
  {
   "cell_type": "markdown",
   "metadata": {},
   "source": [
    "*Exercise 6:* Modify Exercise 4 to show column and row labels so that players can specify location using \"A2\" or \"C1\"."
   ]
  },
  {
   "cell_type": "code",
   "execution_count": 484,
   "metadata": {},
   "outputs": [],
   "source": [
    "# Write you solution here\n",
    "#wow this question was timed so conveniently!\n",
    "def make_grid(demo_board):\n",
    "    alpha=['A','B','C','D','E','F','G','H','I','J','K','L','M','N','O','P','Q','R','S','T','U','V','W','X','Y','Z']\n",
    "    num_rows = len(demo_board)\n",
    "    num_cols = len(demo_board[0])\n",
    "    \n",
    "    print(\"    \",end=\"\")\n",
    "    \n",
    "    for i in range(num_cols):\n",
    "        print(str(i+1),end =\"   \")\n",
    "        \n",
    "    print(\"\\n \",end=\"  \")\n",
    "    print(\"--- \"*num_cols)\n",
    "    \n",
    "    for i in range(num_rows):\n",
    "        print(alpha[i],end = \" \")\n",
    "        print(\"|\",end=\" \")\n",
    "        for j in range(num_cols):\n",
    "            print(player_map[demo_board[i][j]],end=\" \")\n",
    "            print(\"|\",end=\" \")\n",
    "        print(\"\\n \",end=\"  \")\n",
    "        print(\"--- \"*num_cols)\n",
    "    print(\"\\n \")\n",
    "    "
   ]
  },
  {
   "cell_type": "code",
   "execution_count": 485,
   "metadata": {},
   "outputs": [
    {
     "name": "stdout",
     "output_type": "stream",
     "text": [
      "    1   2   3   \n",
      "   --- --- --- \n",
      "A |   |   |   | \n",
      "   --- --- --- \n",
      "B |   | O |   | \n",
      "   --- --- --- \n",
      "C |   |   | X | \n",
      "   --- --- --- \n",
      "\n",
      " \n"
     ]
    }
   ],
   "source": [
    "# Test your solution here\n",
    "demo_board=[[0,0,0],\n",
    "\t[0,2,0],\n",
    "\t[0,0,1]]\n",
    "make_grid(demo_board)"
   ]
  },
  {
   "cell_type": "code",
   "execution_count": 486,
   "metadata": {},
   "outputs": [
    {
     "name": "stdout",
     "output_type": "stream",
     "text": [
      "    1   2   3   4   5   \n",
      "   --- --- --- --- --- \n",
      "A |   |   |   |   |   | \n",
      "   --- --- --- --- --- \n",
      "B |   |   |   |   |   | \n",
      "   --- --- --- --- --- \n",
      "C |   |   |   |   |   | \n",
      "   --- --- --- --- --- \n",
      "D |   |   |   |   |   | \n",
      "   --- --- --- --- --- \n",
      "E |   |   |   |   |   | \n",
      "   --- --- --- --- --- \n",
      "\n",
      " \n"
     ]
    }
   ],
   "source": [
    "demo_board=[[0, 0, 0, 0, 0],\n",
    " [0, 0, 0, 0, 0],\n",
    " [0, 0, 0, 0, 0],\n",
    " [0, 0, 0, 0, 0],\n",
    " [0, 0, 0, 0, 0]]\n",
    "make_grid(demo_board)"
   ]
  },
  {
   "cell_type": "markdown",
   "metadata": {},
   "source": [
    "*Exercise 7:* Write a function that takes a board, player number, and location specified as in exercise 6 and then calls exercise 5 to correctly modify the board.  "
   ]
  },
  {
   "cell_type": "code",
   "execution_count": 487,
   "metadata": {},
   "outputs": [],
   "source": [
    "# Write you solution here\n",
    "def game_beta(board,player_num,x_loc,y_loc):\n",
    "    if not isinstance(x_loc,str):\n",
    "        print(\"WRONG!\")\n",
    "        return 0\n",
    "    #convert the alphabetical input into a number\n",
    "    num = ord(x_loc) - 64\n",
    "    #print(num) #debug\n",
    "    piece_place(board,player_num,num,y_loc)"
   ]
  },
  {
   "cell_type": "code",
   "execution_count": 488,
   "metadata": {},
   "outputs": [
    {
     "name": "stdout",
     "output_type": "stream",
     "text": [
      "WRONG!\n"
     ]
    },
    {
     "data": {
      "text/plain": [
       "0"
      ]
     },
     "execution_count": 488,
     "metadata": {},
     "output_type": "execute_result"
    }
   ],
   "source": [
    "# Test your solution here\n",
    "demo_board=[[0, 0, 0, 0, 0],\n",
    " [0, 0, 0, 0, 0],\n",
    " [0, 0, 0, 0, 0],\n",
    " [0, 0, 0, 0, 0],\n",
    " [0, 0, 0, 0, 0]]\n",
    "\n",
    "game_beta(demo_board,2,3,4)"
   ]
  },
  {
   "cell_type": "code",
   "execution_count": 489,
   "metadata": {},
   "outputs": [
    {
     "name": "stdout",
     "output_type": "stream",
     "text": [
      "    1   2   3   4   5   \n",
      "   --- --- --- --- --- \n",
      "A |   |   |   |   |   | \n",
      "   --- --- --- --- --- \n",
      "B |   |   |   |   |   | \n",
      "   --- --- --- --- --- \n",
      "C |   |   |   |   |   | \n",
      "   --- --- --- --- --- \n",
      "D |   |   |   |   |   | \n",
      "   --- --- --- --- --- \n",
      "E |   |   |   |   |   | \n",
      "   --- --- --- --- --- \n",
      "\n",
      " \n"
     ]
    }
   ],
   "source": [
    "demo_board=[[0, 0, 0, 0, 0],\n",
    " [0, 0, 0, 0, 0],\n",
    " [0, 0, 0, 0, 0],\n",
    " [0, 0, 0, 0, 0],\n",
    " [0, 0, 0, 0, 0]]\n",
    "\n",
    "letter_test='C'\n",
    "game_beta(demo_board,2,letter_test,4)"
   ]
  },
  {
   "cell_type": "markdown",
   "metadata": {},
   "source": [
    "*Exercise 8:* Write a function is called with a board and player number, takes input from the player using python's `input`, and modifies the board using your function from exercise 7. Note that you should keep asking for input until you have gotten a valid input that results in a valid move."
   ]
  },
  {
   "cell_type": "code",
   "execution_count": 490,
   "metadata": {},
   "outputs": [],
   "source": [
    "# Write you solution here"
   ]
  },
  {
   "cell_type": "code",
   "execution_count": 491,
   "metadata": {},
   "outputs": [],
   "source": [
    "# Test your solution here"
   ]
  },
  {
   "cell_type": "markdown",
   "metadata": {},
   "source": [
    "*Exercise 9:* Use all of the previous exercises to implement a full tic-tac-toe game, where an appropriate board is drawn, 2 players are repeatedly asked for a location coordinates of where they wish to place a mark, and the game status is checked until a player wins or a draw occurs."
   ]
  },
  {
   "cell_type": "code",
   "execution_count": 492,
   "metadata": {},
   "outputs": [],
   "source": [
    "# Write you solution here"
   ]
  },
  {
   "cell_type": "code",
   "execution_count": 493,
   "metadata": {},
   "outputs": [],
   "source": [
    "# Test your solution here"
   ]
  },
  {
   "cell_type": "markdown",
   "metadata": {},
   "source": [
    "*Exercise 10:* Test that your game works for 5x5 Tic Tac Toe.  "
   ]
  },
  {
   "cell_type": "code",
   "execution_count": 494,
   "metadata": {},
   "outputs": [],
   "source": [
    "# Test your solution here"
   ]
  },
  {
   "cell_type": "markdown",
   "metadata": {},
   "source": [
    "*Exercise 11:* (Advanced / Challenge) Develop a version of the game where one player is the computer. Note that you don't need to do an extensive seach for the best move. You can have the computer simply protect against loosing and otherwise try to win with straight or diagonal patterns."
   ]
  },
  {
   "cell_type": "code",
   "execution_count": 495,
   "metadata": {},
   "outputs": [],
   "source": [
    "# Write you solution here"
   ]
  },
  {
   "cell_type": "code",
   "execution_count": 496,
   "metadata": {},
   "outputs": [],
   "source": [
    "# Test your solution here"
   ]
  }
 ],
 "metadata": {
  "kernelspec": {
   "display_name": "Python 3 (ipykernel)",
   "language": "python",
   "name": "python3"
  },
  "language_info": {
   "codemirror_mode": {
    "name": "ipython",
    "version": 3
   },
   "file_extension": ".py",
   "mimetype": "text/x-python",
   "name": "python",
   "nbconvert_exporter": "python",
   "pygments_lexer": "ipython3",
   "version": "3.8.10"
  }
 },
 "nbformat": 4,
 "nbformat_minor": 2
}
